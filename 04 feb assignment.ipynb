{
 "cells": [
  {
   "cell_type": "code",
   "execution_count": null,
   "id": "1442ea9a-596a-4177-89b2-5ea011640abf",
   "metadata": {},
   "outputs": [],
   "source": [
    "Q1. Create a python program to sort the given list of tuples based on integer value using a\n",
    "lambda function.\n",
    "[('Sachin Tendulkar', 34357), ('Ricky Ponting', 27483), ('Jack Kallis', 25534), ('Virat Kohli', 24936)]\n",
    "\n",
    "Ans: # Given list of tuples\n",
    "players = [('Sachin Tendulkar', 34357), ('Ricky Ponting', 27483), ('Jack Kallis', 25534), ('Virat Kohli', 24936)]\n",
    "\n",
    "# Sorting the list of tuples based on the second element (runs)\n",
    "sorted_players = sorted(players, key=lambda x: x[1], reverse=True)\n",
    "\n",
    "# Printing the sorted list\n",
    "print(\"Sorted list of players based on runs:\")\n",
    "for player in sorted_players:\n",
    "    print(player)\n"
   ]
  },
  {
   "cell_type": "code",
   "execution_count": null,
   "id": "a6f10156-4e7c-4617-bf3b-46567fa191ec",
   "metadata": {},
   "outputs": [],
   "source": [
    "Q2. Write a Python Program to find the squares of all the numbers in the given list of integers using\n",
    "lambda and map functions.\n",
    "[1, 2, 3, 4, 5, 6, 7, 8, 9, 10]\n",
    "\n",
    "Ans:# Given list of integers\n",
    "numbers = [1, 2, 3, 4, 5, 6, 7, 8, 9, 10]\n",
    "\n",
    "# Using map() with lambda to compute squares\n",
    "squares = list(map(lambda x: x**2, numbers))\n",
    "\n",
    "# Printing the original list and the squares\n",
    "print(\"Original list of numbers:\", numbers)\n",
    "print(\"Squares of numbers:\", squares)\n"
   ]
  },
  {
   "cell_type": "code",
   "execution_count": null,
   "id": "b4b8c153-57cc-408f-a002-3cde16aaa233",
   "metadata": {},
   "outputs": [],
   "source": [
    "Q3. Write a python program to convert the given list of integers into a tuple of strings. Use map and\n",
    "lambda functions\n",
    "\n",
    "Ans: # Given list of integers\n",
    "numbers = [1, 2, 3, 4, 5]\n",
    "\n",
    "# Using map() with lambda to convert integers to strings\n",
    "tuple_of_strings = tuple(map(lambda x: str(x), numbers))\n",
    "\n",
    "# Printing the original list and the tuple of strings\n",
    "print(\"Original list of integers:\", numbers)\n",
    "print(\"Tuple of strings:\", tuple_of_strings)\n"
   ]
  },
  {
   "cell_type": "code",
   "execution_count": null,
   "id": "5be41552-aa02-46f1-8cb2-222e788dfcc5",
   "metadata": {},
   "outputs": [],
   "source": [
    "Q4. Write a python program using reduce function to compute the product of a list containing numbers\n",
    "from 1 to 25.\n",
    "\n",
    "Ans: from functools import reduce\n",
    "\n",
    "# Generate the list of numbers from 1 to 25\n",
    "numbers = list(range(1, 26))\n",
    "\n",
    "# Using reduce() with lambda to compute the product\n",
    "product = reduce(lambda x, y: x * y, numbers)\n",
    "\n",
    "# Printing the result\n",
    "print(\"Product of numbers from 1 to 25:\", product)\n"
   ]
  },
  {
   "cell_type": "code",
   "execution_count": null,
   "id": "b88db86a-b9b8-4719-8dd6-3f0230bd90e1",
   "metadata": {},
   "outputs": [],
   "source": [
    "Q5. Write a python program to filter the numbers in a given list that are divisible by 2 and 3 using the\n",
    "filter function.\n",
    "[2, 3, 6, 9, 27, 60, 90, 120, 55, 46]\n",
    "\n",
    "Ans:  # Given list of numbers\n",
    "numbers = [2, 3, 6, 9, 27, 60, 90, 120, 55, 46]\n",
    "\n",
    "# Using filter() with lambda to filter numbers divisible by 2 and 3\n",
    "filtered_numbers = list(filter(lambda x: x % 2 == 0 and x % 3 == 0, numbers))\n",
    "\n",
    "# Printing the original list and the filtered numbers\n",
    "print(\"Original list of numbers:\", numbers)\n",
    "print(\"Numbers divisible by 2 and 3:\", filtered_numbers)\n"
   ]
  },
  {
   "cell_type": "code",
   "execution_count": null,
   "id": "133a75b7-627c-444d-8168-a9923b631414",
   "metadata": {},
   "outputs": [],
   "source": [
    "Q6. Write a python program to find palindromes in the given list of strings using lambda and filter\n",
    "function.\n",
    "['python', 'php', 'aba', 'radar', 'level']\n",
    "\n",
    "Ans: "
   ]
  }
 ],
 "metadata": {
  "kernelspec": {
   "display_name": "Python 3 (ipykernel)",
   "language": "python",
   "name": "python3"
  },
  "language_info": {
   "codemirror_mode": {
    "name": "ipython",
    "version": 3
   },
   "file_extension": ".py",
   "mimetype": "text/x-python",
   "name": "python",
   "nbconvert_exporter": "python",
   "pygments_lexer": "ipython3",
   "version": "3.10.8"
  }
 },
 "nbformat": 4,
 "nbformat_minor": 5
}
